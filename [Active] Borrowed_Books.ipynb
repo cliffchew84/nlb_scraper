{
 "cells": [
  {
   "cell_type": "markdown",
   "metadata": {},
   "source": [
    "### Added new functions\n",
    "1. Add standardized chrome selenium activation --> The best headache saver ever!\n",
    "1. (To Do) Add Pysheets to make maintanence easier!"
   ]
  },
  {
   "cell_type": "code",
   "execution_count": 1,
   "metadata": {},
   "outputs": [],
   "source": [
    "import sys\n",
    "sys.path.insert(0, '/Users/cliff.chew/Downloads/self/python_functions')\n",
    "from web_scraping import activate_chrome_selenium"
   ]
  },
  {
   "cell_type": "code",
   "execution_count": 2,
   "metadata": {},
   "outputs": [],
   "source": [
    "from googleapiclient import discovery\n",
    "from bs4 import BeautifulSoup as bs\n",
    "from selenium import webdriver\n",
    "import pandas as pd\n",
    "import numpy as np\n",
    "import itertools\n",
    "import pygsheets\n",
    "import warnings\n",
    "\n",
    "warnings.filterwarnings('ignore')\n",
    "pd.set_option('display.max_rows', 500)\n",
    "pd.set_option('display.max_columns', 500)\n",
    "pd.set_option('display.max_colwidth', 1000)"
   ]
  },
  {
   "cell_type": "code",
   "execution_count": 3,
   "metadata": {},
   "outputs": [],
   "source": [
    "from selenium.webdriver.common.by import By\n",
    "from selenium.webdriver.support.ui import WebDriverWait\n",
    "from selenium.webdriver.support import expected_conditions as EC"
   ]
  },
  {
   "cell_type": "code",
   "execution_count": 4,
   "metadata": {},
   "outputs": [
    {
     "name": "stderr",
     "output_type": "stream",
     "text": [
      "[WDM] - Current google-chrome version is 84.0.4147\n",
      "[WDM] - Get LATEST driver version for 84.0.4147\n",
      "[WDM] - Driver [/Users/cliff.chew/.wdm/drivers/chromedriver/mac64/84.0.4147.30/chromedriver] found in cache\n"
     ]
    },
    {
     "name": "stdout",
     "output_type": "stream",
     "text": [
      " \n"
     ]
    }
   ],
   "source": [
    "browser = activate_chrome_selenium()"
   ]
  },
  {
   "cell_type": "markdown",
   "metadata": {},
   "source": [
    "### Log in first! "
   ]
  },
  {
   "cell_type": "code",
   "execution_count": 5,
   "metadata": {},
   "outputs": [],
   "source": [
    "info = pd.read_csv('nlb_credentials.csv')\n",
    "account_name = info['values'][0]\n",
    "password = info['values'][1]\n",
    "\n",
    "login_page = 'https://cassamv2.nlb.gov.sg/cas/login'\n",
    "browser.get(login_page)\n",
    "\n",
    "# Actions on login page\n",
    "username_tag = \"\"\"//*[@id=\"username\"]\"\"\"\n",
    "element = browser.find_element_by_xpath(username_tag)\n",
    "element.send_keys(\"{}\".format(account_name))\n",
    "\n",
    "password_tag = \"\"\"//*[@id=\"password\"]\"\"\"\n",
    "element = browser.find_element_by_xpath(password_tag)\n",
    "element.send_keys(\"{}\".format(password))\n",
    "\n",
    "login_button_2 = \"\"\"//*[@id=\"fm1\"]/section[4]/input[4]\"\"\"\n",
    "browser.find_element_by_xpath(login_button_2).click()"
   ]
  },
  {
   "cell_type": "markdown",
   "metadata": {},
   "source": [
    "### Loop through the pages! "
   ]
  },
  {
   "cell_type": "code",
   "execution_count": 6,
   "metadata": {},
   "outputs": [],
   "source": [
    "loans_link = \"https://www.nlb.gov.sg/mylibrary/Loans\"\n",
    "browser.get(loans_link)\n",
    "\n",
    "element = WebDriverWait(browser, 10).until(\n",
    "        EC.presence_of_element_located((By.XPATH , \"\"\"//*[@id=\"current-loans\"]/div[3]/table\"\"\")))"
   ]
  },
  {
   "cell_type": "code",
   "execution_count": 7,
   "metadata": {},
   "outputs": [],
   "source": [
    "soup = bs(browser.page_source, \"html5lib\")"
   ]
  },
  {
   "cell_type": "code",
   "execution_count": 8,
   "metadata": {
    "scrolled": false
   },
   "outputs": [],
   "source": [
    "table_col = list()\n",
    "for table in soup.find_all(\"table\", class_=\"table table-bordered table-striped table-list\"):\n",
    "    for row in table.find_all('th'):\n",
    "        table_col.append(row.text)\n",
    "table_col = table_col[:5]"
   ]
  },
  {
   "cell_type": "code",
   "execution_count": 26,
   "metadata": {
    "scrolled": false
   },
   "outputs": [],
   "source": [
    "table_cells = list()\n",
    "for table in soup.find_all(\"table\", class_=\"table table-bordered table-striped table-list\"):\n",
    "    for row in table.find_all('td'):\n",
    "        table_cells.append(row.text)"
   ]
  },
  {
   "cell_type": "code",
   "execution_count": 31,
   "metadata": {},
   "outputs": [],
   "source": [
    "books = pd.DataFrame(np.array(table_cells).reshape(int(len(table_cells)/5), 5))\n",
    "books.columns = ['no', 'title', 'code', 'due', 'renewed']\n",
    "books = books[['title', 'code', 'due']]\n",
    "books = books[1:].reset_index(drop=True)\n",
    "\n",
    "books['title'] = [i.replace(\"Title: \", \"\").strip() for i in books['title']]\n",
    "books['code'] = [i.replace(\"Barcode: \", \"\").strip() for i in books['code']]\n",
    "books['due'] = [i.replace(\"Due on \", \"\") .strip() for i in books['due']]"
   ]
  },
  {
   "cell_type": "markdown",
   "metadata": {},
   "source": [
    "### Authenticate into Google Drive "
   ]
  },
  {
   "cell_type": "code",
   "execution_count": 32,
   "metadata": {},
   "outputs": [],
   "source": [
    "google_auth = \"/Users/cliff.chew/Downloads/self/python_functions/API Project-8b57e830c88b.json\"\n",
    "gc = pygsheets.authorize(service_file=google_auth)\n",
    "name_of_worksheet = 'NLB Project'\n",
    "sh = gc.open(name_of_worksheet)\n",
    "wks = sh.worksheet_by_title(\"Current_borrowed\")\n",
    "wks.set_dataframe(books,(1,1))\n",
    "\n",
    "wks.update_value('D1', 'Days Left')\n",
    "wks.update_value('D2', '=ARRAYFORMULA(DAYS(C2:C{},$E$1))'.format(books.shape[0] + 1))"
   ]
  },
  {
   "cell_type": "markdown",
   "metadata": {},
   "source": [
    "link to page: https://docs.google.com/spreadsheets/d/1s5oYU59jyU_QO3IIhCClyWGoC_MpW9L_h4l4djDUKO0/edit#gid=1021888748"
   ]
  }
 ],
 "metadata": {
  "hide_input": false,
  "kernelspec": {
   "display_name": "Python 3",
   "language": "python",
   "name": "python3"
  },
  "language_info": {
   "codemirror_mode": {
    "name": "ipython",
    "version": 3
   },
   "file_extension": ".py",
   "mimetype": "text/x-python",
   "name": "python",
   "nbconvert_exporter": "python",
   "pygments_lexer": "ipython3",
   "version": "3.7.9"
  },
  "toc": {
   "base_numbering": 1,
   "nav_menu": {},
   "number_sections": true,
   "sideBar": true,
   "skip_h1_title": false,
   "title_cell": "Table of Contents",
   "title_sidebar": "Contents",
   "toc_cell": false,
   "toc_position": {},
   "toc_section_display": true,
   "toc_window_display": false
  },
  "varInspector": {
   "cols": {
    "lenName": 16,
    "lenType": 16,
    "lenVar": 40
   },
   "kernels_config": {
    "python": {
     "delete_cmd_postfix": "",
     "delete_cmd_prefix": "del ",
     "library": "var_list.py",
     "varRefreshCmd": "print(var_dic_list())"
    },
    "r": {
     "delete_cmd_postfix": ") ",
     "delete_cmd_prefix": "rm(",
     "library": "var_list.r",
     "varRefreshCmd": "cat(var_dic_list()) "
    }
   },
   "types_to_exclude": [
    "module",
    "function",
    "builtin_function_or_method",
    "instance",
    "_Feature"
   ],
   "window_display": false
  }
 },
 "nbformat": 4,
 "nbformat_minor": 2
}

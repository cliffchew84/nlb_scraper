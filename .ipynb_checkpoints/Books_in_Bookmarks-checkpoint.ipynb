{
 "cells": [
  {
   "cell_type": "markdown",
   "metadata": {},
   "source": [
    "### Scraping NLB books that I have bookmarked "
   ]
  },
  {
   "cell_type": "code",
   "execution_count": 2,
   "metadata": {},
   "outputs": [],
   "source": [
    "from bs4 import BeautifulSoup as bs\n",
    "from selenium import webdriver\n",
    "from glob import glob\n",
    "import pandas as pd\n",
    "import numpy as np\n",
    "import warnings\n",
    "import pygsheets\n",
    "import math\n",
    "import time\n",
    "import re\n",
    "import os"
   ]
  },
  {
   "cell_type": "code",
   "execution_count": 3,
   "metadata": {},
   "outputs": [],
   "source": [
    "# Some notebook configs\n",
    "warnings.filterwarnings('ignore')\n",
    "pd.set_option('display.max_colwidth', 1000)"
   ]
  },
  {
   "cell_type": "code",
   "execution_count": 4,
   "metadata": {},
   "outputs": [],
   "source": [
    "from web_scraping import activate_chrome_selenium_latest\n",
    "from nlb_functions import get_book_urls_on_page, log_in_nlb"
   ]
  },
  {
   "cell_type": "markdown",
   "metadata": {},
   "source": [
    "### Clean files first \n",
    "- If you have ran this script before, information from each book is saved as a rtf file in your local machine. \n",
    "- To ensure that there is no overlaps, these rtf files are checked and removed everytime you re-run your script"
   ]
  },
  {
   "cell_type": "code",
   "execution_count": 5,
   "metadata": {},
   "outputs": [
    {
     "data": {
      "text/plain": [
       "0"
      ]
     },
     "execution_count": 5,
     "metadata": {},
     "output_type": "execute_result"
    }
   ],
   "source": [
    "file_list = glob(\"*.rtf\")\n",
    "len(file_list)"
   ]
  },
  {
   "cell_type": "code",
   "execution_count": 6,
   "metadata": {},
   "outputs": [],
   "source": [
    "for files in file_list:\n",
    "    os.remove(files)"
   ]
  },
  {
   "cell_type": "markdown",
   "metadata": {},
   "source": [
    "### Go to start the scraping "
   ]
  },
  {
   "cell_type": "code",
   "execution_count": 7,
   "metadata": {},
   "outputs": [
    {
     "name": "stderr",
     "output_type": "stream",
     "text": [
      "\n",
      "\n",
      "====== WebDriver manager ======\n",
      "Current google-chrome version is 91.0.4472\n",
      "Get LATEST driver version for 91.0.4472\n",
      "Driver [/Users/cliff/.wdm/drivers/chromedriver/mac64/91.0.4472.101/chromedriver] found in cache\n"
     ]
    }
   ],
   "source": [
    "browser = activate_chrome_selenium_latest()"
   ]
  },
  {
   "cell_type": "code",
   "execution_count": 8,
   "metadata": {},
   "outputs": [],
   "source": [
    "auth_csv_file = os.environ['cred_folder'] + '/nlb_credentials.csv'\n",
    "\n",
    "info = pd.read_csv(auth_csv_file)\n",
    "account_name = info['values'][0]\n",
    "password = info['values'][1]\n",
    "\n",
    "browser = log_in_nlb(browser, account_name, password)"
   ]
  },
  {
   "cell_type": "markdown",
   "metadata": {},
   "source": [
    "### Add hit to get number of page iterations needed "
   ]
  },
  {
   "cell_type": "code",
   "execution_count": 9,
   "metadata": {},
   "outputs": [],
   "source": [
    "url_link = \"https://www.nlb.gov.sg/mylibrary/Bookmarks\"    \n",
    "browser.get(url_link)\n",
    "soup = bs(browser.page_source, 'html5lib')"
   ]
  },
  {
   "cell_type": "code",
   "execution_count": 10,
   "metadata": {},
   "outputs": [
    {
     "data": {
      "text/plain": [
       "range(1, 3)"
      ]
     },
     "execution_count": 10,
     "metadata": {},
     "output_type": "execute_result"
    }
   ],
   "source": [
    "max_records = float(soup.find_all(\"div\", text=re.compile(\"Showing\"))[0].text.split(\" \")[-2])\n",
    "range_list = range(1, int(math.ceil(max_records / 20)) + 1)\n",
    "range_list"
   ]
  },
  {
   "cell_type": "markdown",
   "metadata": {},
   "source": [
    "### Loop through the pages! "
   ]
  },
  {
   "cell_type": "code",
   "execution_count": 11,
   "metadata": {},
   "outputs": [],
   "source": [
    "book_urls_dict = dict()\n",
    "for i in range_list:\n",
    "    url_link = \"https://www.nlb.gov.sg/mylibrary/Bookmarks?q=&s=&a=&p={}\".format(i)\n",
    "    browser.get(url_link)\n",
    "    soup = bs(browser.page_source, 'html5lib')\n",
    "    book_urls_dict[i] = list(set(get_book_urls_on_page(soup)))"
   ]
  },
  {
   "cell_type": "code",
   "execution_count": 12,
   "metadata": {},
   "outputs": [],
   "source": [
    "all_book_url_lists = list()\n",
    "for i in range(1, len(book_urls_dict) + 1):\n",
    "    all_book_url_lists = all_book_url_lists + book_urls_dict[i]"
   ]
  },
  {
   "cell_type": "code",
   "execution_count": 13,
   "metadata": {},
   "outputs": [],
   "source": [
    "final_table = pd.DataFrame()"
   ]
  },
  {
   "cell_type": "markdown",
   "metadata": {},
   "source": [
    "#### Note\n",
    "- This is a troublsome script to go to each link that I have, and see if I am on the link with the correct book info. If not, it means that I still need to do more clickings.\n",
    "- **Brace yourself.** Because this portion of the code goes through each book to get the relevant information, this part can be quite slow if you have quite a few books in your bookmark"
   ]
  },
  {
   "cell_type": "code",
   "execution_count": 14,
   "metadata": {
    "scrolled": false
   },
   "outputs": [],
   "source": [
    "# Write iteration count\n",
    "for i, urls in enumerate(all_book_url_lists):\n",
    "    browser.get(urls)\n",
    "    book = bs(browser.page_source, 'html5lib')\n",
    "    time.sleep(3)\n",
    "\n",
    "    try:\n",
    "        link_on_book = \"\"\"//*[@id=\"result-content-grid\"]/div/div/div/div[2]/h5/a\"\"\"\n",
    "        browser.find_element_by_xpath(link_on_book).click()\n",
    "    except:\n",
    "        pass\n",
    "\n",
    "    link_on_availability = \"\"\"//*[@id=\"mainContent\"]/div[3]/div[2]/div[3]/div[1]/div/div/div[1]/a\"\"\"\n",
    "    browser.find_element_by_xpath(link_on_availability).click()\n",
    "    time.sleep(3)\n",
    "    \n",
    "    book = bs(browser.page_source, 'html5lib')\n",
    "    with open(\"{}.rtf\".format(urls.split('=')[-1]), \"wb\") as text_file:\n",
    "        text_file.write(book.encode('utf-8'));"
   ]
  },
  {
   "cell_type": "markdown",
   "metadata": {},
   "source": [
    "### Taking locally saved files and loading into Google "
   ]
  },
  {
   "cell_type": "code",
   "execution_count": 15,
   "metadata": {},
   "outputs": [
    {
     "data": {
      "text/plain": [
       "26"
      ]
     },
     "execution_count": 15,
     "metadata": {},
     "output_type": "execute_result"
    }
   ],
   "source": [
    "file_list = glob(\"*.rtf\")\n",
    "len(file_list)"
   ]
  },
  {
   "cell_type": "code",
   "execution_count": 112,
   "metadata": {},
   "outputs": [],
   "source": [
    "final_table = pd.DataFrame()\n",
    "for files in file_list:\n",
    "    with open(files, encoding=\"utf8\") as f:\n",
    "        book = bs(f.read())\n",
    "\n",
    "    for i in book.find(class_= 'table table-stacked'):\n",
    "\n",
    "        lib = list()\n",
    "        code = list()\n",
    "        avail = list()\n",
    "\n",
    "        for tr in i.find_all('tr'):\n",
    "            for td in tr.find_all('td'):\n",
    "                tmp = td.text\n",
    "                if tmp.split(\" \")[-1] == 'Library' or 'library' in tmp or \"Repository Used Book\" in tmp or 'LLiBrary' in tmp:\n",
    "                    if '.' not in tmp:\n",
    "                        lib.append(tmp)\n",
    "                elif 'English' in tmp or 'Chinese' in tmp:\n",
    "                    code.append(tmp)\n",
    "                elif 'Available' == tmp or 'Onloan' in tmp or 'Transit' in tmp or \"For Reference Only\" in tmp:\n",
    "                    avail.append(tmp)\n",
    "\n",
    "        try:\n",
    "            len(lib) == len(code) == len(avail)\n",
    "        except:\n",
    "            print(\"Error in length\")\n",
    "        \n",
    "        book_table = pd.DataFrame([lib, code, avail]).T\n",
    "        book_table['title'] = book.find('title').get_text()\n",
    "\n",
    "        final_table = final_table.append(book_table)"
   ]
  },
  {
   "cell_type": "code",
   "execution_count": 115,
   "metadata": {
    "scrolled": false
   },
   "outputs": [
    {
     "data": {
      "text/plain": [
       "26"
      ]
     },
     "execution_count": 115,
     "metadata": {},
     "output_type": "execute_result"
    }
   ],
   "source": [
    "len(final_table.title.drop_duplicates().tolist())"
   ]
  },
  {
   "cell_type": "code",
   "execution_count": 116,
   "metadata": {},
   "outputs": [],
   "source": [
    "final_table.columns = ['library', \"number\", \"availability\", 'title']\n",
    "final_table = final_table[['library', 'title', 'number', 'availability']]"
   ]
  },
  {
   "cell_type": "markdown",
   "metadata": {},
   "source": [
    "### Thinking about how to include testing into my script"
   ]
  },
  {
   "cell_type": "code",
   "execution_count": 1,
   "metadata": {},
   "outputs": [],
   "source": [
    "# final_table[~final_table.availability.isin(['Available', 'For Reference Only'])]"
   ]
  },
  {
   "cell_type": "markdown",
   "metadata": {},
   "source": [
    "### Thinking about testing my code "
   ]
  },
  {
   "cell_type": "code",
   "execution_count": 122,
   "metadata": {},
   "outputs": [
    {
     "data": {
      "text/plain": [
       "(0, 4)"
      ]
     },
     "execution_count": 122,
     "metadata": {},
     "output_type": "execute_result"
    }
   ],
   "source": [
    "final_table[final_table.availability.isnull()].shape"
   ]
  },
  {
   "cell_type": "code",
   "execution_count": 121,
   "metadata": {},
   "outputs": [
    {
     "data": {
      "text/plain": [
       "(0, 4)"
      ]
     },
     "execution_count": 121,
     "metadata": {},
     "output_type": "execute_result"
    }
   ],
   "source": [
    "final_table[final_table['number'].isnull()].shape"
   ]
  },
  {
   "cell_type": "markdown",
   "metadata": {},
   "source": [
    "### Processing "
   ]
  },
  {
   "cell_type": "code",
   "execution_count": 131,
   "metadata": {},
   "outputs": [],
   "source": [
    "final_table.title = [i.split(\" | \")[0] for i in final_table.title]\n",
    "final_table['number'] = [i.replace(\"English\", \"\").replace(\"Chinese\", \"\") for i in final_table['number']]\n",
    "final_table.loc[final_table.library == \"Repository Used Book Collection\", 'availability'] = \"For Reference Only\"\n",
    "final_table['availability'] = [i.replace(\"Onloan - Due: \", \"\") for i in final_table['availability']]"
   ]
  },
  {
   "cell_type": "code",
   "execution_count": 133,
   "metadata": {},
   "outputs": [],
   "source": [
    "final_table['title'] = [i.split(r\"/\")[0].strip() for i in final_table['title']]"
   ]
  },
  {
   "cell_type": "code",
   "execution_count": null,
   "metadata": {},
   "outputs": [],
   "source": [
    "ffinal_table = final_table[(final_table.library==\"Bishan Public Library\")]\n",
    "ffinal_table = ffinal_table.sort_values('availability')\n",
    "ffinal_table.shape"
   ]
  },
  {
   "cell_type": "markdown",
   "metadata": {},
   "source": [
    "### Cleaning Bookmarks Sheet "
   ]
  },
  {
   "cell_type": "code",
   "execution_count": null,
   "metadata": {},
   "outputs": [],
   "source": [
    "google_auth = os.environ['cred_folder'] + \"/API Project-8b57e830c88b.json\"\n",
    "gc = pygsheets.authorize(service_file=google_auth)\n",
    "sh = gc.open('NLB Project')"
   ]
  },
  {
   "cell_type": "markdown",
   "metadata": {},
   "source": [
    "### Checking just Bishan library"
   ]
  },
  {
   "cell_type": "code",
   "execution_count": null,
   "metadata": {},
   "outputs": [],
   "source": [
    "bishan = sh.worksheet_by_title(\"Bookmarks\")\n",
    "bishan.clear('A2:E1000')"
   ]
  },
  {
   "cell_type": "code",
   "execution_count": null,
   "metadata": {},
   "outputs": [],
   "source": [
    "bishan_table = final_table[final_table.library.str.contains(\"Bishan\")]\n",
    "bishan.set_dataframe(bishan_table,(1,1))\n",
    "bishan.update_value('F2', \"=ARRAYFORMULA(vlookup(A2:A{}, Current_borrowed!$A$2:$D$16,2,False))\".format(\n",
    "    bishan_table.shape[0] + 1))"
   ]
  },
  {
   "cell_type": "markdown",
   "metadata": {},
   "source": [
    "### Checking in all libraries"
   ]
  },
  {
   "cell_type": "code",
   "execution_count": null,
   "metadata": {},
   "outputs": [],
   "source": [
    "all_ = sh.worksheet_by_title(\"All\")\n",
    "all_.clear('A2:F1000') "
   ]
  },
  {
   "cell_type": "code",
   "execution_count": null,
   "metadata": {},
   "outputs": [],
   "source": [
    "all_.set_dataframe(final_table,(1,1))\n",
    "all_.update_value('F2', \"=ARRAYFORMULA(vlookup(A2:A{}, Current_borrowed!$A$2:$D$16,2,False))\".format(\n",
    "    final_table.shape[0] + 1))"
   ]
  },
  {
   "cell_type": "markdown",
   "metadata": {},
   "source": [
    "link to page: https://docs.google.com/spreadsheets/d/1s5oYU59jyU_QO3IIhCClyWGoC_MpW9L_h4l4djDUKO0/edit#gid=1021888748"
   ]
  }
 ],
 "metadata": {
  "hide_input": false,
  "kernelspec": {
   "display_name": "Python 3",
   "language": "python",
   "name": "python3"
  },
  "language_info": {
   "codemirror_mode": {
    "name": "ipython",
    "version": 3
   },
   "file_extension": ".py",
   "mimetype": "text/x-python",
   "name": "python",
   "nbconvert_exporter": "python",
   "pygments_lexer": "ipython3",
   "version": "3.8.2"
  },
  "toc": {
   "base_numbering": 1,
   "nav_menu": {},
   "number_sections": true,
   "sideBar": true,
   "skip_h1_title": false,
   "title_cell": "Table of Contents",
   "title_sidebar": "Contents",
   "toc_cell": false,
   "toc_position": {},
   "toc_section_display": true,
   "toc_window_display": false
  },
  "varInspector": {
   "cols": {
    "lenName": 16,
    "lenType": 16,
    "lenVar": 40
   },
   "kernels_config": {
    "python": {
     "delete_cmd_postfix": "",
     "delete_cmd_prefix": "del ",
     "library": "var_list.py",
     "varRefreshCmd": "print(var_dic_list())"
    },
    "r": {
     "delete_cmd_postfix": ") ",
     "delete_cmd_prefix": "rm(",
     "library": "var_list.r",
     "varRefreshCmd": "cat(var_dic_list()) "
    }
   },
   "types_to_exclude": [
    "module",
    "function",
    "builtin_function_or_method",
    "instance",
    "_Feature"
   ],
   "window_display": false
  }
 },
 "nbformat": 4,
 "nbformat_minor": 2
}

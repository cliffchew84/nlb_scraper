{
 "cells": [
  {
   "cell_type": "code",
   "execution_count": 33,
   "metadata": {},
   "outputs": [],
   "source": [
    "import sys\n",
    "sys.path.insert(0, '/Users/cliff/side_projects/python_functions')\n",
    "from web_scraping import activate_chrome_selenium_latest, log_in_nlb\n",
    "\n",
    "from bs4 import BeautifulSoup as bs\n",
    "from selenium import webdriver\n",
    "from glob import glob\n",
    "import pandas as pd\n",
    "import numpy as np\n",
    "import warnings\n",
    "import pygsheets\n",
    "import math\n",
    "import time\n",
    "import re\n",
    "import os\n",
    "\n",
    "from nlb_functions import get_book_urls_on_page\n",
    "\n",
    "warnings.filterwarnings('ignore')\n",
    "pd.set_option('display.max_rows', 500)\n",
    "pd.set_option('display.max_columns', 500)"
   ]
  },
  {
   "cell_type": "markdown",
   "metadata": {},
   "source": [
    "### Clean all existing book info files"
   ]
  },
  {
   "cell_type": "code",
   "execution_count": 34,
   "metadata": {},
   "outputs": [],
   "source": [
    "for files in glob(\"*.rtf\"):\n",
    "    os.remove(files)"
   ]
  },
  {
   "cell_type": "markdown",
   "metadata": {},
   "source": [
    "### Go to start the scraping "
   ]
  },
  {
   "cell_type": "code",
   "execution_count": 35,
   "metadata": {},
   "outputs": [
    {
     "name": "stderr",
     "output_type": "stream",
     "text": [
      "\n",
      "\n",
      "====== WebDriver manager ======\n",
      "Current google-chrome version is 91.0.4472\n",
      "Get LATEST driver version for 91.0.4472\n",
      "Get LATEST driver version for 91.0.4472\n",
      "Trying to download new driver from https://chromedriver.storage.googleapis.com/91.0.4472.101/chromedriver_mac64.zip\n",
      "Driver has been saved in cache [/Users/cliff/.wdm/drivers/chromedriver/mac64/91.0.4472.101]\n"
     ]
    }
   ],
   "source": [
    "browser = activate_chrome_selenium_latest(default=False, pic=False, headless=False)"
   ]
  },
  {
   "cell_type": "code",
   "execution_count": 36,
   "metadata": {},
   "outputs": [],
   "source": [
    "info = pd.read_csv('nlb_credentials.csv')\n",
    "account_name = info['values'][0]\n",
    "password = info['values'][1]\n",
    "\n",
    "browser = log_in_nlb(browser, account_name, password)"
   ]
  },
  {
   "cell_type": "markdown",
   "metadata": {},
   "source": [
    "### Add hit to get number of page iterations needed "
   ]
  },
  {
   "cell_type": "code",
   "execution_count": 37,
   "metadata": {},
   "outputs": [],
   "source": [
    "url_link = \"https://www.nlb.gov.sg/mylibrary/Bookmarks\"    \n",
    "browser.get(url_link)\n",
    "soup = bs(browser.page_source, 'html5lib')"
   ]
  },
  {
   "cell_type": "code",
   "execution_count": 38,
   "metadata": {},
   "outputs": [
    {
     "data": {
      "text/plain": [
       "range(1, 3)"
      ]
     },
     "execution_count": 38,
     "metadata": {},
     "output_type": "execute_result"
    }
   ],
   "source": [
    "max_records = float(soup.find_all(\"div\", text=re.compile(\"Showing\"))[0].text.split(\" \")[-2])\n",
    "range_list = range(1, int(math.ceil(max_records / 20)) + 1)\n",
    "range_list"
   ]
  },
  {
   "cell_type": "markdown",
   "metadata": {},
   "source": [
    "### Loop through the pages! "
   ]
  },
  {
   "cell_type": "code",
   "execution_count": 39,
   "metadata": {},
   "outputs": [],
   "source": [
    "book_urls_dict = dict()\n",
    "for i in range_list:\n",
    "    book_urls_list = list()\n",
    "    url_link = \"https://www.nlb.gov.sg/mylibrary/Bookmarks?q=&s=&a=&p={}\".format(i)\n",
    "    browser.get(url_link)\n",
    "    soup = bs(browser.page_source, 'html5lib')\n",
    "    book_urls_dict[i] = list(set(get_book_urls_on_page(soup, book_urls_list)))"
   ]
  },
  {
   "cell_type": "code",
   "execution_count": 40,
   "metadata": {},
   "outputs": [],
   "source": [
    "all_book_url_lists = list()\n",
    "for i in range(1, len(book_urls_dict) + 1):\n",
    "    all_book_url_lists = all_book_url_lists + book_urls_dict[i]"
   ]
  },
  {
   "cell_type": "code",
   "execution_count": 41,
   "metadata": {},
   "outputs": [],
   "source": [
    "final_table = pd.DataFrame()"
   ]
  },
  {
   "cell_type": "markdown",
   "metadata": {},
   "source": [
    "### Per Book information\n",
    "1. This part clicks into all the links that I have saved, click on availability"
   ]
  },
  {
   "cell_type": "code",
   "execution_count": 42,
   "metadata": {
    "scrolled": false
   },
   "outputs": [],
   "source": [
    "# Write iteration count\n",
    "for i, urls in enumerate(all_book_url_lists):\n",
    "    browser.get(urls)\n",
    "    book = bs(browser.page_source, 'html5lib')\n",
    "    time.sleep(3)\n",
    "    \n",
    "    # This checks if I am already on the book link itself, and if not, clicks into the book link\n",
    "    try:\n",
    "        link_on_book = \"\"\"//*[@id=\"result-content-grid\"]/div/div/div/div[2]/h5/a\"\"\"\n",
    "        browser.find_element_by_xpath(link_on_book).click()\n",
    "    except:\n",
    "        pass\n",
    "    \n",
    "    # Clicks into the availbility page\n",
    "    link_on_availability = \"\"\"//*[@id=\"mainContent\"]/div[3]/div[2]/div[3]/div[1]/div/div/div[1]/a\"\"\"\n",
    "    browser.find_element_by_xpath(link_on_availability).click()\n",
    "    time.sleep(3)\n",
    "    \n",
    "    # Gets info from availability popup page and saves them for later processing\n",
    "    book = bs(browser.page_source, 'html5lib')\n",
    "    with open(\"{}.rtf\".format(urls.split('=')[-1]), \"wb\") as text_file:\n",
    "        text_file.write(book.encode('utf-8'));"
   ]
  },
  {
   "cell_type": "markdown",
   "metadata": {},
   "source": [
    "### Taking locally saved files and loading into Google "
   ]
  },
  {
   "cell_type": "code",
   "execution_count": 43,
   "metadata": {},
   "outputs": [
    {
     "data": {
      "text/plain": [
       "26"
      ]
     },
     "execution_count": 43,
     "metadata": {},
     "output_type": "execute_result"
    }
   ],
   "source": [
    "file_list = glob(\"*.rtf\")\n",
    "len(file_list)"
   ]
  },
  {
   "cell_type": "code",
   "execution_count": 44,
   "metadata": {},
   "outputs": [],
   "source": [
    "final_table = pd.DataFrame()\n",
    "for files in file_list:\n",
    "    with open(files, encoding=\"utf8\") as f:\n",
    "        book = bs(f.read())\n",
    "\n",
    "    base_holder = list()\n",
    "    base = list()\n",
    "    title = book.find('title').get_text()\n",
    "    try:\n",
    "        for i in book.find(class_= 'table table-stacked'):\n",
    "                for tr in i.find_all('tr'):\n",
    "                    for td in tr.find_all('td'):\n",
    "                        if \"To locate\" not in td.text:\n",
    "                            base.append(td.text)\n",
    "\n",
    "        for i in range(int(len(base) / 3)):\n",
    "            base_holder.append(base[(i*3):((i+1)*3)])\n",
    "\n",
    "        base_table = pd.DataFrame(base_holder)\n",
    "        base_table['title'] = title\n",
    "        final_table = final_table.append(base_table)\n",
    "        # print(title)\n",
    "    except:\n",
    "        print(files)\n",
    "        print(title + \" is MISSNG!!\")\n",
    "        print(\"\")"
   ]
  },
  {
   "cell_type": "markdown",
   "metadata": {},
   "source": [
    "#### Testing "
   ]
  },
  {
   "cell_type": "code",
   "execution_count": 45,
   "metadata": {
    "scrolled": false
   },
   "outputs": [
    {
     "name": "stdout",
     "output_type": "stream",
     "text": [
      "203103693.rtf - Machine learning and security : protecting systems with data and algorithms\n",
      "204353668.rtf - Kali Linux - an ethical hacker's cookbook : practical recipes that combine strategies, attacks, and tools for advanced penetration testing\n",
      "203115801.rtf - Introduction to machine learning with applications in information security\n",
      "200303433.rtf - Make it stick : the science of successful learning\n",
      "205418318.rtf - The Peter Principle : why things always go wrong\n",
      "13683938.rtf - SQL antipatterns : avoiding the pitfalls of database programming\n",
      "14581063.rtf - The victory lab : the secret science of winning campaigns\n",
      "205431306.rtf - Python for DevOps : learn ruthlessly effective automation\n",
      "203789201.rtf - Clean code in Python : refactor your legacy code base\n",
      "204094132.rtf - Sprawlball : a visual tour of the new era of the NBA\n",
      "203085676.rtf - The deep learning A.I. playbook : strategy for disruptive artificial intelligence\n",
      "203984302.rtf - Indistractable : how to control your attention and choose your life\n",
      "200184038.rtf - The doodle revolution : unlock the power to think differently\n",
      "202564369.rtf - Peak : secrets from the new science of expertise\n",
      "14016127.rtf - The theory that would not die : how Bayes' rule cracked the enigma code, hunted down Russian submarines, & emerged triumphant from two centuries of controversy\n",
      "201188666.rtf - Google compute engine\n",
      "203221744.rtf - Google Cloud platform in action\n",
      "203001835.rtf - Analytics : the agile way\n",
      "203105000.rtf - Thinking in bets : making smarter decisions when you don't have all the facts\n",
      "200128603.rtf - The blood sugar solution cookbook : more than 175 ultra-tasty recipes for total health and weight loss\n",
      "202799410.rtf - A little history of economics\n",
      "14531490.rtf - The blood sugar solution : the bestselling programme for preventing diabetes, losing weight, and feeling great\n",
      "204049888.rtf - Capitalism, alone : the future of the system that rules the world\n",
      "205437047.rtf - Getting started with containers in Google Cloud Platform : deploy, manage, and secure containerized applications\n",
      "205291430.rtf - Coding democracy : how hackers are disrupting power, surveillance, and authoritarianism\n",
      "12734964.rtf - Small giants : companies that choose to be great instead of big\n"
     ]
    }
   ],
   "source": [
    "book_avail = dict()\n",
    "\n",
    "book_num_select_list = ('English', \"Chinese\")\n",
    "book_status_list = (\"Available\", \"Onloan\", \"In-Transit\", \"Reserved\", \"For Reference Only\")\n",
    "\n",
    "for files in file_list:\n",
    "    book_info = dict()\n",
    "    lib_list = list()\n",
    "    avail_list = list()\n",
    "    book_num_list = list()\n",
    "    with open(files, encoding=\"utf8\") as f:\n",
    "        book = bs(f.read())\n",
    "    \n",
    "    book_title = book.find('title').get_text().split(\"/\")[0].strip()\n",
    "    \n",
    "    print(f\"{files} - {book_title}\")\n",
    "    for i in book.find(class_= 'table table-stacked'):\n",
    "        for tr in i.find_all('tr'):\n",
    "            for td in tr.find_all('td'):\n",
    "                tmp_text = td.text\n",
    "                if tmp_text.split(\" \")[-1].lower() == \"library\" or tmp_text.split(\"@\")[0].lower() == \"library\" or \"LLiBrary\" in tmp_text or \"Repository Used Book Collection\" in tmp_text:\n",
    "                    lib_list.append(tmp_text)\n",
    "                elif any(x in tmp_text for x in book_num_select_list):\n",
    "                    book_num_list.append(tmp_text)\n",
    "                elif any(x in tmp_text for x in book_status_list):\n",
    "                    avail_list.append(tmp_text)\n",
    "\n",
    "    # Per book info\n",
    "    book_info['library'] = lib_list\n",
    "    book_info['book_num'] = book_num_list\n",
    "    book_info['avail'] = avail_list\n",
    "    \n",
    "    book_avail[book_title] = book_info"
   ]
  },
  {
   "cell_type": "code",
   "execution_count": 46,
   "metadata": {},
   "outputs": [
    {
     "data": {
      "text/plain": [
       "{'library': ['Repository Used Book Collection', 'Woodlands Regional Library'],\n",
       " 'book_num': ['English658.409 BUR', 'English658.409 BUR -[BIZ]'],\n",
       " 'avail': ['For Reference OnlyPlease click here to reserve item', 'Available']}"
      ]
     },
     "execution_count": 46,
     "metadata": {},
     "output_type": "execute_result"
    }
   ],
   "source": [
    "# For checking of specific book breaking\n",
    "book_avail['Small giants : companies that choose to be great instead of big']"
   ]
  },
  {
   "cell_type": "code",
   "execution_count": 47,
   "metadata": {},
   "outputs": [
    {
     "name": "stdout",
     "output_type": "stream",
     "text": [
      "Machine learning and security : protecting systems with data and algorithms\n",
      "Kali Linux - an ethical hacker's cookbook : practical recipes that combine strategies, attacks, and tools for advanced penetration testing\n",
      "Introduction to machine learning with applications in information security\n",
      "Make it stick : the science of successful learning\n",
      "The Peter Principle : why things always go wrong\n",
      "SQL antipatterns : avoiding the pitfalls of database programming\n",
      "The victory lab : the secret science of winning campaigns\n",
      "Python for DevOps : learn ruthlessly effective automation\n",
      "Clean code in Python : refactor your legacy code base\n",
      "Sprawlball : a visual tour of the new era of the NBA\n",
      "The deep learning A.I. playbook : strategy for disruptive artificial intelligence\n",
      "Indistractable : how to control your attention and choose your life\n",
      "The doodle revolution : unlock the power to think differently\n",
      "Peak : secrets from the new science of expertise\n",
      "The theory that would not die : how Bayes' rule cracked the enigma code, hunted down Russian submarines, & emerged triumphant from two centuries of controversy\n",
      "Google compute engine\n",
      "Google Cloud platform in action\n",
      "Analytics : the agile way\n",
      "Thinking in bets : making smarter decisions when you don't have all the facts\n",
      "The blood sugar solution cookbook : more than 175 ultra-tasty recipes for total health and weight loss\n",
      "A little history of economics\n",
      "The blood sugar solution : the bestselling programme for preventing diabetes, losing weight, and feeling great\n",
      "Capitalism, alone : the future of the system that rules the world\n",
      "Getting started with containers in Google Cloud Platform : deploy, manage, and secure containerized applications\n",
      "Coding democracy : how hackers are disrupting power, surveillance, and authoritarianism\n",
      "Small giants : companies that choose to be great instead of big\n"
     ]
    }
   ],
   "source": [
    "final_table = pd.DataFrame()\n",
    "for title in list(book_avail.keys()):\n",
    "    print(title)\n",
    "    tmp_table = pd.DataFrame.from_dict(book_avail[title])\n",
    "    tmp_table['title'] = title\n",
    "    final_table = final_table.append(tmp_table)"
   ]
  },
  {
   "cell_type": "code",
   "execution_count": 48,
   "metadata": {
    "scrolled": false
   },
   "outputs": [
    {
     "data": {
      "text/html": [
       "<div>\n",
       "<style scoped>\n",
       "    .dataframe tbody tr th:only-of-type {\n",
       "        vertical-align: middle;\n",
       "    }\n",
       "\n",
       "    .dataframe tbody tr th {\n",
       "        vertical-align: top;\n",
       "    }\n",
       "\n",
       "    .dataframe thead th {\n",
       "        text-align: right;\n",
       "    }\n",
       "</style>\n",
       "<table border=\"1\" class=\"dataframe\">\n",
       "  <thead>\n",
       "    <tr style=\"text-align: right;\">\n",
       "      <th></th>\n",
       "      <th>library</th>\n",
       "      <th>book_num</th>\n",
       "      <th>avail</th>\n",
       "      <th>title</th>\n",
       "    </tr>\n",
       "  </thead>\n",
       "  <tbody>\n",
       "    <tr>\n",
       "      <th>0</th>\n",
       "      <td>Bedok Public Library</td>\n",
       "      <td>English006.31 CHI -[COM]</td>\n",
       "      <td>Available</td>\n",
       "      <td>Machine learning and security : protecting sys...</td>\n",
       "    </tr>\n",
       "    <tr>\n",
       "      <th>1</th>\n",
       "      <td>Bishan Public Library</td>\n",
       "      <td>English006.31 CHI -[COM]</td>\n",
       "      <td>Available</td>\n",
       "      <td>Machine learning and security : protecting sys...</td>\n",
       "    </tr>\n",
       "    <tr>\n",
       "      <th>2</th>\n",
       "      <td>Geylang East Public Library</td>\n",
       "      <td>English006.31 CHI -[COM]</td>\n",
       "      <td>Available</td>\n",
       "      <td>Machine learning and security : protecting sys...</td>\n",
       "    </tr>\n",
       "    <tr>\n",
       "      <th>3</th>\n",
       "      <td>Jurong Regional Library</td>\n",
       "      <td>English006.31 CHI -[COM]</td>\n",
       "      <td>Available</td>\n",
       "      <td>Machine learning and security : protecting sys...</td>\n",
       "    </tr>\n",
       "    <tr>\n",
       "      <th>4</th>\n",
       "      <td>Jurong West Public Library</td>\n",
       "      <td>English006.31 CHI -[COM]</td>\n",
       "      <td>Available</td>\n",
       "      <td>Machine learning and security : protecting sys...</td>\n",
       "    </tr>\n",
       "  </tbody>\n",
       "</table>\n",
       "</div>"
      ],
      "text/plain": [
       "                       library                  book_num      avail  \\\n",
       "0         Bedok Public Library  English006.31 CHI -[COM]  Available   \n",
       "1        Bishan Public Library  English006.31 CHI -[COM]  Available   \n",
       "2  Geylang East Public Library  English006.31 CHI -[COM]  Available   \n",
       "3      Jurong Regional Library  English006.31 CHI -[COM]  Available   \n",
       "4   Jurong West Public Library  English006.31 CHI -[COM]  Available   \n",
       "\n",
       "                                               title  \n",
       "0  Machine learning and security : protecting sys...  \n",
       "1  Machine learning and security : protecting sys...  \n",
       "2  Machine learning and security : protecting sys...  \n",
       "3  Machine learning and security : protecting sys...  \n",
       "4  Machine learning and security : protecting sys...  "
      ]
     },
     "execution_count": 48,
     "metadata": {},
     "output_type": "execute_result"
    }
   ],
   "source": [
    "final_table.head()"
   ]
  },
  {
   "cell_type": "code",
   "execution_count": 49,
   "metadata": {},
   "outputs": [
    {
     "data": {
      "text/html": [
       "<div>\n",
       "<style scoped>\n",
       "    .dataframe tbody tr th:only-of-type {\n",
       "        vertical-align: middle;\n",
       "    }\n",
       "\n",
       "    .dataframe tbody tr th {\n",
       "        vertical-align: top;\n",
       "    }\n",
       "\n",
       "    .dataframe thead th {\n",
       "        text-align: right;\n",
       "    }\n",
       "</style>\n",
       "<table border=\"1\" class=\"dataframe\">\n",
       "  <thead>\n",
       "    <tr style=\"text-align: right;\">\n",
       "      <th></th>\n",
       "      <th>library</th>\n",
       "      <th>title</th>\n",
       "      <th>number</th>\n",
       "      <th>avail</th>\n",
       "    </tr>\n",
       "  </thead>\n",
       "  <tbody>\n",
       "    <tr>\n",
       "      <th>0</th>\n",
       "      <td>Bedok Public Library</td>\n",
       "      <td>Machine learning and security : protecting sys...</td>\n",
       "      <td>English006.31 CHI -[COM]</td>\n",
       "      <td>Available</td>\n",
       "    </tr>\n",
       "    <tr>\n",
       "      <th>1</th>\n",
       "      <td>Bishan Public Library</td>\n",
       "      <td>Machine learning and security : protecting sys...</td>\n",
       "      <td>English006.31 CHI -[COM]</td>\n",
       "      <td>Available</td>\n",
       "    </tr>\n",
       "    <tr>\n",
       "      <th>2</th>\n",
       "      <td>Geylang East Public Library</td>\n",
       "      <td>Machine learning and security : protecting sys...</td>\n",
       "      <td>English006.31 CHI -[COM]</td>\n",
       "      <td>Available</td>\n",
       "    </tr>\n",
       "    <tr>\n",
       "      <th>3</th>\n",
       "      <td>Jurong Regional Library</td>\n",
       "      <td>Machine learning and security : protecting sys...</td>\n",
       "      <td>English006.31 CHI -[COM]</td>\n",
       "      <td>Available</td>\n",
       "    </tr>\n",
       "    <tr>\n",
       "      <th>4</th>\n",
       "      <td>Jurong West Public Library</td>\n",
       "      <td>Machine learning and security : protecting sys...</td>\n",
       "      <td>English006.31 CHI -[COM]</td>\n",
       "      <td>Available</td>\n",
       "    </tr>\n",
       "  </tbody>\n",
       "</table>\n",
       "</div>"
      ],
      "text/plain": [
       "                       library  \\\n",
       "0         Bedok Public Library   \n",
       "1        Bishan Public Library   \n",
       "2  Geylang East Public Library   \n",
       "3      Jurong Regional Library   \n",
       "4   Jurong West Public Library   \n",
       "\n",
       "                                               title  \\\n",
       "0  Machine learning and security : protecting sys...   \n",
       "1  Machine learning and security : protecting sys...   \n",
       "2  Machine learning and security : protecting sys...   \n",
       "3  Machine learning and security : protecting sys...   \n",
       "4  Machine learning and security : protecting sys...   \n",
       "\n",
       "                     number      avail  \n",
       "0  English006.31 CHI -[COM]  Available  \n",
       "1  English006.31 CHI -[COM]  Available  \n",
       "2  English006.31 CHI -[COM]  Available  \n",
       "3  English006.31 CHI -[COM]  Available  \n",
       "4  English006.31 CHI -[COM]  Available  "
      ]
     },
     "execution_count": 49,
     "metadata": {},
     "output_type": "execute_result"
    }
   ],
   "source": [
    "final_table.columns = ['library', \"number\", \"avail\", 'title']\n",
    "final_table = final_table[['library', 'title', 'number', 'avail']]\n",
    "final_table.head()"
   ]
  },
  {
   "cell_type": "markdown",
   "metadata": {},
   "source": [
    "### Past portion "
   ]
  },
  {
   "cell_type": "code",
   "execution_count": 50,
   "metadata": {},
   "outputs": [],
   "source": [
    "# final_table = final_table[~final_table['number'].isnull()]\n",
    "# final_table = final_table[~final_table.avail.isnull()]\n",
    "final_table['number'] = [i.replace(\"English\", \"\").replace(\"Chinese\", \"\") for i in final_table['number']]"
   ]
  },
  {
   "cell_type": "code",
   "execution_count": 51,
   "metadata": {},
   "outputs": [
    {
     "data": {
      "text/plain": [
       "(14, 4)"
      ]
     },
     "execution_count": 51,
     "metadata": {},
     "output_type": "execute_result"
    }
   ],
   "source": [
    "# final_table['avail'] = [i.replace(\"Onloan - Due: \", \"\") for i in final_table['availabil']]\n",
    "# final_table['title'] = [i.split(r\"/\")[0].strip() for i in final_table['title']]\n",
    "ffinal_table = final_table[(final_table.library==\"Bishan Public Library\")]\n",
    "ffinal_table = ffinal_table.sort_values('avail')\n",
    "ffinal_table.shape"
   ]
  },
  {
   "cell_type": "markdown",
   "metadata": {},
   "source": [
    "### Cleaning Bookmarks Sheet "
   ]
  },
  {
   "cell_type": "code",
   "execution_count": 52,
   "metadata": {},
   "outputs": [],
   "source": [
    "google_auth = \"/Users/cliff/side_projects/python_functions/API Project-8b57e830c88b.json\"\n",
    "gc = pygsheets.authorize(service_file=google_auth)\n",
    "sh = gc.open('NLB Project')"
   ]
  },
  {
   "cell_type": "markdown",
   "metadata": {},
   "source": [
    "### Cleaning All Sheet "
   ]
  },
  {
   "cell_type": "code",
   "execution_count": 53,
   "metadata": {},
   "outputs": [],
   "source": [
    "bishan = sh.worksheet_by_title(\"Bookmarks\")\n",
    "bishan.clear('A2:E1000')"
   ]
  },
  {
   "cell_type": "code",
   "execution_count": 54,
   "metadata": {},
   "outputs": [],
   "source": [
    "bishan_table = final_table[final_table.library.str.contains(\"Bishan\")]\n",
    "bishan.set_dataframe(bishan_table,(1,1))"
   ]
  },
  {
   "cell_type": "markdown",
   "metadata": {},
   "source": [
    "### All "
   ]
  },
  {
   "cell_type": "code",
   "execution_count": 55,
   "metadata": {},
   "outputs": [],
   "source": [
    "all_ = sh.worksheet_by_title(\"All\")\n",
    "all_.clear('A2:F1000') "
   ]
  },
  {
   "cell_type": "code",
   "execution_count": 56,
   "metadata": {},
   "outputs": [],
   "source": [
    "all_.set_dataframe(final_table,(1,1))"
   ]
  },
  {
   "cell_type": "markdown",
   "metadata": {},
   "source": [
    "link to page: https://docs.google.com/spreadsheets/d/1s5oYU59jyU_QO3IIhCClyWGoC_MpW9L_h4l4djDUKO0/edit#gid=1021888748"
   ]
  }
 ],
 "metadata": {
  "hide_input": false,
  "kernelspec": {
   "display_name": "Python 3",
   "language": "python",
   "name": "python3"
  },
  "language_info": {
   "codemirror_mode": {
    "name": "ipython",
    "version": 3
   },
   "file_extension": ".py",
   "mimetype": "text/x-python",
   "name": "python",
   "nbconvert_exporter": "python",
   "pygments_lexer": "ipython3",
   "version": "3.8.2"
  },
  "toc": {
   "base_numbering": 1,
   "nav_menu": {},
   "number_sections": true,
   "sideBar": true,
   "skip_h1_title": false,
   "title_cell": "Table of Contents",
   "title_sidebar": "Contents",
   "toc_cell": false,
   "toc_position": {},
   "toc_section_display": true,
   "toc_window_display": false
  },
  "varInspector": {
   "cols": {
    "lenName": 16,
    "lenType": 16,
    "lenVar": 40
   },
   "kernels_config": {
    "python": {
     "delete_cmd_postfix": "",
     "delete_cmd_prefix": "del ",
     "library": "var_list.py",
     "varRefreshCmd": "print(var_dic_list())"
    },
    "r": {
     "delete_cmd_postfix": ") ",
     "delete_cmd_prefix": "rm(",
     "library": "var_list.r",
     "varRefreshCmd": "cat(var_dic_list()) "
    }
   },
   "types_to_exclude": [
    "module",
    "function",
    "builtin_function_or_method",
    "instance",
    "_Feature"
   ],
   "window_display": false
  }
 },
 "nbformat": 4,
 "nbformat_minor": 2
}

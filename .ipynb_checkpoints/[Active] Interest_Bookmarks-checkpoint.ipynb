{
 "cells": [
  {
   "cell_type": "code",
   "execution_count": 1,
   "metadata": {},
   "outputs": [],
   "source": [
    "import sys\n",
    "sys.path.insert(0, '/Users/cliff/side_projects/python_functions')\n",
    "from web_scraping import activate_chrome_selenium_latest\n",
    "\n",
    "from bs4 import BeautifulSoup as bs\n",
    "from selenium import webdriver\n",
    "from glob import glob\n",
    "import pandas as pd\n",
    "import numpy as np\n",
    "import warnings\n",
    "import pygsheets\n",
    "import math\n",
    "import time\n",
    "import re\n",
    "import os\n",
    "\n",
    "from nlb_functions import get_book_urls_on_page\n",
    "\n",
    "warnings.filterwarnings('ignore')"
   ]
  },
  {
   "cell_type": "markdown",
   "metadata": {},
   "source": [
    "### Clean files first "
   ]
  },
  {
   "cell_type": "code",
   "execution_count": 2,
   "metadata": {},
   "outputs": [
    {
     "data": {
      "text/plain": [
       "0"
      ]
     },
     "execution_count": 2,
     "metadata": {},
     "output_type": "execute_result"
    }
   ],
   "source": [
    "file_list = glob(\"*.rtf\")\n",
    "len(file_list)"
   ]
  },
  {
   "cell_type": "code",
   "execution_count": 3,
   "metadata": {},
   "outputs": [],
   "source": [
    "for files in file_list:\n",
    "    os.remove(files)"
   ]
  },
  {
   "cell_type": "markdown",
   "metadata": {},
   "source": [
    "### Go to start the scraping "
   ]
  },
  {
   "cell_type": "code",
   "execution_count": 4,
   "metadata": {},
   "outputs": [
    {
     "name": "stderr",
     "output_type": "stream",
     "text": [
      "[WDM] - Current google-chrome version is 84.0.4147\n",
      "[WDM] - Get LATEST driver version for 84.0.4147\n",
      "[WDM] - Driver [/Users/cliff.chew/.wdm/drivers/chromedriver/mac64/84.0.4147.30/chromedriver] found in cache\n"
     ]
    },
    {
     "name": "stdout",
     "output_type": "stream",
     "text": [
      " \n"
     ]
    }
   ],
   "source": [
    "browser = activate_chrome_selenium()\n",
    "# browser = webdriver.Firefox()"
   ]
  },
  {
   "cell_type": "code",
   "execution_count": 5,
   "metadata": {},
   "outputs": [],
   "source": [
    "info = pd.read_csv('nlb_credentials.csv')\n",
    "account_name = info['values'][0]\n",
    "password = info['values'][1]\n",
    "\n",
    "login_page = 'https://cassamv2.nlb.gov.sg/cas/login'\n",
    "browser.get(login_page)\n",
    "\n",
    "# Actions on login page\n",
    "username_tag = \"\"\"//*[@id=\"username\"]\"\"\"\n",
    "element = browser.find_element_by_xpath(username_tag)\n",
    "element.send_keys(\"{}\".format(account_name))\n",
    "\n",
    "password_tag = \"\"\"//*[@id=\"password\"]\"\"\"\n",
    "element = browser.find_element_by_xpath(password_tag)\n",
    "element.send_keys(\"{}\".format(password))\n",
    "\n",
    "login_button_2 = \"\"\"//*[@id=\"fm1\"]/section[4]/input[4]\"\"\"\n",
    "browser.find_element_by_xpath(login_button_2).click()"
   ]
  },
  {
   "cell_type": "markdown",
   "metadata": {},
   "source": [
    "### Add hit to get number of page iterations needed "
   ]
  },
  {
   "cell_type": "code",
   "execution_count": 6,
   "metadata": {},
   "outputs": [],
   "source": [
    "url_link = \"https://www.nlb.gov.sg/mylibrary/Bookmarks\"    \n",
    "browser.get(url_link)\n",
    "soup = bs(browser.page_source, 'html5lib')"
   ]
  },
  {
   "cell_type": "code",
   "execution_count": 7,
   "metadata": {},
   "outputs": [
    {
     "data": {
      "text/plain": [
       "range(1, 5)"
      ]
     },
     "execution_count": 7,
     "metadata": {},
     "output_type": "execute_result"
    }
   ],
   "source": [
    "max_records = float(soup.find_all(\"div\", text=re.compile(\"Showing\"))[0].text.split(\" \")[-2])\n",
    "range_list = range(1, int(math.ceil(max_records / 20)) + 1)\n",
    "range_list"
   ]
  },
  {
   "cell_type": "markdown",
   "metadata": {},
   "source": [
    "### Loop through the pages! "
   ]
  },
  {
   "cell_type": "code",
   "execution_count": 8,
   "metadata": {},
   "outputs": [],
   "source": [
    "book_urls_dict = dict()\n",
    "for i in range_list:\n",
    "    book_urls_list = list()\n",
    "    url_link = \"https://www.nlb.gov.sg/mylibrary/Bookmarks?q=&s=&a=&p={}\".format(i)\n",
    "    browser.get(url_link)\n",
    "    soup = bs(browser.page_source, 'html5lib')\n",
    "    book_urls_dict[i] = list(set(get_book_urls_on_page(soup, book_urls_list)))"
   ]
  },
  {
   "cell_type": "code",
   "execution_count": 9,
   "metadata": {},
   "outputs": [],
   "source": [
    "all_book_url_lists = list()\n",
    "for i in range(1, len(book_urls_dict) + 1):\n",
    "    all_book_url_lists = all_book_url_lists + book_urls_dict[i]"
   ]
  },
  {
   "cell_type": "code",
   "execution_count": 10,
   "metadata": {},
   "outputs": [],
   "source": [
    "final_table = pd.DataFrame()"
   ]
  },
  {
   "cell_type": "code",
   "execution_count": null,
   "metadata": {
    "scrolled": false
   },
   "outputs": [],
   "source": [
    "# Write iteration count\n",
    "for i, urls in enumerate(all_book_url_lists):\n",
    "    browser.get(urls)\n",
    "    book = bs(browser.page_source, 'html5lib')\n",
    "    time.sleep(3)\n",
    "\n",
    "    try:\n",
    "        link_on_book = \"\"\"//*[@id=\"result-content-grid\"]/div/div/div/div[2]/h5/a\"\"\"\n",
    "        browser.find_element_by_xpath(link_on_book).click()\n",
    "    except:\n",
    "        pass\n",
    "\n",
    "    link_on_availability = \"\"\"//*[@id=\"mainContent\"]/div[3]/div[2]/div[3]/div[1]/div/div/div[1]/a\"\"\"\n",
    "    browser.find_element_by_xpath(link_on_availability).click()\n",
    "    time.sleep(3)\n",
    "    \n",
    "    book = bs(browser.page_source, 'html5lib')\n",
    "    with open(\"{}.rtf\".format(urls.split('=')[-1]), \"wb\") as text_file:\n",
    "        text_file.write(book.encode('utf-8'));"
   ]
  },
  {
   "cell_type": "markdown",
   "metadata": {},
   "source": [
    "### Taking locally saved files and loading into Google "
   ]
  },
  {
   "cell_type": "code",
   "execution_count": null,
   "metadata": {},
   "outputs": [],
   "source": [
    "file_list = glob(\"*.rtf\")\n",
    "len(file_list)"
   ]
  },
  {
   "cell_type": "code",
   "execution_count": null,
   "metadata": {},
   "outputs": [],
   "source": [
    "final_table = pd.DataFrame()\n",
    "for files in file_list:\n",
    "    with open(files, encoding=\"utf8\") as f:\n",
    "        book = bs(f.read())\n",
    "\n",
    "    base_holder = list()\n",
    "    base = list()\n",
    "    title = book.find('title').get_text()\n",
    "    try:\n",
    "        for i in book.find(class_= 'table table-stacked'):\n",
    "                for tr in i.find_all('tr'):\n",
    "                    for td in tr.find_all('td'):\n",
    "                        if \"To locate\" not in td.text:\n",
    "                            base.append(td.text)\n",
    "\n",
    "        for i in range(int(len(base) / 3)):\n",
    "            base_holder.append(base[(i*3):((i+1)*3)])\n",
    "\n",
    "        base_table = pd.DataFrame(base_holder)\n",
    "        base_table['title'] = title\n",
    "        final_table = final_table.append(base_table)\n",
    "        # print(title)\n",
    "    except:\n",
    "        print(files)\n",
    "        print(title + \" is MISSNG!!\")\n",
    "        print(\"\")"
   ]
  },
  {
   "cell_type": "code",
   "execution_count": null,
   "metadata": {
    "scrolled": false
   },
   "outputs": [],
   "source": [
    "len(final_table.title.drop_duplicates().tolist())"
   ]
  },
  {
   "cell_type": "code",
   "execution_count": null,
   "metadata": {},
   "outputs": [],
   "source": [
    "final_table.columns = ['library', \"number\", \"availability\", 'title']\n",
    "final_table = final_table[['library', 'title', 'number', 'availability']]\n",
    "final_table.head()"
   ]
  },
  {
   "cell_type": "markdown",
   "metadata": {},
   "source": [
    "### Past portion "
   ]
  },
  {
   "cell_type": "code",
   "execution_count": null,
   "metadata": {},
   "outputs": [],
   "source": [
    "final_table = final_table[~final_table['number'].isnull()]\n",
    "final_table['number'] = [i.replace(\"English\", \"\").replace(\"Chinese\", \"\") for i in final_table['number']]\n",
    "final_table = final_table[~final_table.availability.isnull()]"
   ]
  },
  {
   "cell_type": "code",
   "execution_count": null,
   "metadata": {},
   "outputs": [],
   "source": [
    "final_table['availability'] = [i.replace(\"Onloan - Due: \", \"\") for i in final_table['availability']]\n",
    "final_table['title'] = [i.split(r\"/\")[0].strip() for i in final_table['title']]\n",
    "ffinal_table = final_table[(final_table.library==\"Bishan Public Library\")]\n",
    "ffinal_table = ffinal_table.sort_values('availability')\n",
    "ffinal_table.shape"
   ]
  },
  {
   "cell_type": "markdown",
   "metadata": {},
   "source": [
    "### Cleaning Bookmarks Sheet "
   ]
  },
  {
   "cell_type": "code",
   "execution_count": null,
   "metadata": {},
   "outputs": [],
   "source": [
    "google_auth = \"/Users/cliff.chew/Downloads/self/python_functions/API Project-8b57e830c88b.json\"\n",
    "gc = pygsheets.authorize(service_file=google_auth)\n",
    "name_of_worksheet = 'NLB Project'\n",
    "sh = gc.open(name_of_worksheet)"
   ]
  },
  {
   "cell_type": "markdown",
   "metadata": {},
   "source": [
    "### Cleaning All Sheet "
   ]
  },
  {
   "cell_type": "code",
   "execution_count": null,
   "metadata": {},
   "outputs": [],
   "source": [
    "bishan = sh.worksheet_by_title(\"Bookmarks\")\n",
    "bishan.clear('A2:E1000')"
   ]
  },
  {
   "cell_type": "code",
   "execution_count": null,
   "metadata": {},
   "outputs": [],
   "source": [
    "bishan_table = final_table[final_table.library.str.contains(\"Bishan\")]\n",
    "bishan.set_dataframe(bishan_table,(1,1))\n",
    "bishan.update_value('F2', \"=ARRAYFORMULA(vlookup(A2:A{}, Current_borrowed!$A$2:$D$16,2,False))\".format(\n",
    "    bishan_table.shape[0] + 1))"
   ]
  },
  {
   "cell_type": "markdown",
   "metadata": {},
   "source": [
    "### All "
   ]
  },
  {
   "cell_type": "code",
   "execution_count": null,
   "metadata": {},
   "outputs": [],
   "source": [
    "all_ = sh.worksheet_by_title(\"All\")\n",
    "all_.clear('A2:F1000') "
   ]
  },
  {
   "cell_type": "code",
   "execution_count": null,
   "metadata": {},
   "outputs": [],
   "source": [
    "all_.set_dataframe(final_table,(1,1))\n",
    "all_.update_value('F2', \"=ARRAYFORMULA(vlookup(A2:A{}, Current_borrowed!$A$2:$D$16,2,False))\".format(\n",
    "    final_table.shape[0] + 1))"
   ]
  },
  {
   "cell_type": "markdown",
   "metadata": {},
   "source": [
    "link to page: https://docs.google.com/spreadsheets/d/1s5oYU59jyU_QO3IIhCClyWGoC_MpW9L_h4l4djDUKO0/edit#gid=1021888748"
   ]
  }
 ],
 "metadata": {
  "hide_input": false,
  "kernelspec": {
   "display_name": "Python 3",
   "language": "python",
   "name": "python3"
  },
  "language_info": {
   "codemirror_mode": {
    "name": "ipython",
    "version": 3
   },
   "file_extension": ".py",
   "mimetype": "text/x-python",
   "name": "python",
   "nbconvert_exporter": "python",
   "pygments_lexer": "ipython3",
   "version": "3.8.2"
  },
  "toc": {
   "base_numbering": 1,
   "nav_menu": {},
   "number_sections": true,
   "sideBar": true,
   "skip_h1_title": false,
   "title_cell": "Table of Contents",
   "title_sidebar": "Contents",
   "toc_cell": false,
   "toc_position": {},
   "toc_section_display": true,
   "toc_window_display": false
  },
  "varInspector": {
   "cols": {
    "lenName": 16,
    "lenType": 16,
    "lenVar": 40
   },
   "kernels_config": {
    "python": {
     "delete_cmd_postfix": "",
     "delete_cmd_prefix": "del ",
     "library": "var_list.py",
     "varRefreshCmd": "print(var_dic_list())"
    },
    "r": {
     "delete_cmd_postfix": ") ",
     "delete_cmd_prefix": "rm(",
     "library": "var_list.r",
     "varRefreshCmd": "cat(var_dic_list()) "
    }
   },
   "types_to_exclude": [
    "module",
    "function",
    "builtin_function_or_method",
    "instance",
    "_Feature"
   ],
   "window_display": false
  }
 },
 "nbformat": 4,
 "nbformat_minor": 2
}

{
 "cells": [
  {
   "cell_type": "markdown",
   "metadata": {},
   "source": [
    "### Scraping NLB to know the books that I borrowed"
   ]
  },
  {
   "cell_type": "code",
   "execution_count": 1,
   "metadata": {},
   "outputs": [],
   "source": [
    "import re\n",
    "import os\n",
    "import time\n",
    "\n",
    "import warnings\n",
    "import pygsheets\n",
    "import numpy as np\n",
    "import pandas as pd\n",
    "from selenium import webdriver\n",
    "from bs4 import BeautifulSoup as bs\n",
    "\n",
    "# Some notebook configs\n",
    "warnings.filterwarnings('ignore')\n",
    "pd.set_option('display.max_colwidth', 1000)"
   ]
  },
  {
   "cell_type": "markdown",
   "metadata": {},
   "source": [
    "#### Load in self created functions "
   ]
  },
  {
   "cell_type": "code",
   "execution_count": 2,
   "metadata": {},
   "outputs": [],
   "source": [
    "from web_scraping import activate_chrome_selenium_latest\n",
    "from nlb_functions import log_in_nlb"
   ]
  },
  {
   "cell_type": "code",
   "execution_count": 3,
   "metadata": {},
   "outputs": [
    {
     "name": "stderr",
     "output_type": "stream",
     "text": [
      "\n",
      "\n",
      "====== WebDriver manager ======\n",
      "Current google-chrome version is 91.0.4472\n",
      "Get LATEST driver version for 91.0.4472\n",
      "Driver [/Users/cliff/.wdm/drivers/chromedriver/mac64/91.0.4472.101/chromedriver] found in cache\n"
     ]
    }
   ],
   "source": [
    "browser = activate_chrome_selenium_latest()"
   ]
  },
  {
   "cell_type": "markdown",
   "metadata": {},
   "source": [
    "### Log in first! "
   ]
  },
  {
   "cell_type": "code",
   "execution_count": null,
   "metadata": {},
   "outputs": [],
   "source": [
    "auth_csv_file = os.environ['cred_folder'] + '/nlb_credentials.csv'\n",
    "\n",
    "info = pd.read_csv(auth_csv_file)\n",
    "account_name = info['values'][0]\n",
    "password = info['values'][1]\n",
    "\n",
    "browser = log_in_nlb(browser, account_name, password)"
   ]
  },
  {
   "cell_type": "markdown",
   "metadata": {},
   "source": [
    "### Loop through the pages! "
   ]
  },
  {
   "cell_type": "code",
   "execution_count": null,
   "metadata": {},
   "outputs": [],
   "source": [
    "loans_link = \"https://www.nlb.gov.sg/mylibrary/Loans\"\n",
    "browser.get(loans_link)\n",
    "\n",
    "time.sleep(5)\n",
    "\n",
    "soup = bs(browser.page_source, \"html5lib\")"
   ]
  },
  {
   "cell_type": "code",
   "execution_count": null,
   "metadata": {
    "scrolled": false
   },
   "outputs": [],
   "source": [
    "table_col = list()\n",
    "table_cells = list()\n",
    "\n",
    "for table in soup.find_all(\"table\", class_=\"table table-bordered table-striped table-list\"):\n",
    "    for row in table.find_all('th'):\n",
    "        table_col.append(row.text)\n",
    "    \n",
    "    for row in table.find_all('td'):\n",
    "        table_cells.append(row.text)\n",
    "\n",
    "table_col = table_col[:5]"
   ]
  },
  {
   "cell_type": "code",
   "execution_count": null,
   "metadata": {},
   "outputs": [],
   "source": [
    "browser.close()"
   ]
  },
  {
   "cell_type": "markdown",
   "metadata": {},
   "source": [
    "### Preparing raw data to push into G Drive"
   ]
  },
  {
   "cell_type": "code",
   "execution_count": null,
   "metadata": {},
   "outputs": [],
   "source": [
    "books = pd.DataFrame(np.array(table_cells).reshape(int(len(table_cells)/5), 5))\n",
    "\n",
    "books.columns = ['no', 'title', 'code', 'due', 'renewed']\n",
    "books = books[['title', 'code', 'due']]\n",
    "books = books[1:].reset_index(drop=True)\n",
    "\n",
    "for i in ['title', 'code', 'due']:\n",
    "    books[i] = [re.sub(' +', ' ', i.replace(\"\\n\", \"\")).strip() for i in books[i]]\n",
    "\n",
    "books['title'] = [i.replace(\"Title: \", \"\").strip() for i in books['title']]\n",
    "books['code'] = [i.replace(\"Barcode: \", \"\").strip() for i in books['code']]\n",
    "books['due'] = [i.replace(\"Due on \", \"\") .strip() for i in books['due']]"
   ]
  },
  {
   "cell_type": "markdown",
   "metadata": {},
   "source": [
    "### Authenticate into G Drive and push data into G Drive"
   ]
  },
  {
   "cell_type": "code",
   "execution_count": null,
   "metadata": {},
   "outputs": [],
   "source": [
    "google_auth = os.environ['cred_folder'] + \"/API Project-8b57e830c88b.json\"\n",
    "gc = pygsheets.authorize(service_file=google_auth)\n",
    "\n",
    "sh = gc.open('NLB Project')\n",
    "wks = sh.worksheet_by_title(\"Current_borrowed\")\n",
    "wks.clear('A2:D17')\n",
    "\n",
    "wks.update_value('D2', \"=ARRAYFORMULA(C2:C{}-E1)\".format(books.shape[0] + 1))\n",
    "wks.update_value('C19', \"Average:\")\n",
    "wks.update_value('D19', \"=AVERAGE(D2:17)\")\n",
    "\n",
    "wks.set_dataframe(books,(1,1))"
   ]
  },
  {
   "cell_type": "markdown",
   "metadata": {},
   "source": [
    "### [Link](https://docs.google.com/spreadsheets/d/1s5oYU59jyU_QO3IIhCClyWGoC_MpW9L_h4l4djDUKO0/edit#gid=1021888748) to my Google Sheet"
   ]
  }
 ],
 "metadata": {
  "hide_input": false,
  "kernelspec": {
   "display_name": "Python 3",
   "language": "python",
   "name": "python3"
  },
  "language_info": {
   "codemirror_mode": {
    "name": "ipython",
    "version": 3
   },
   "file_extension": ".py",
   "mimetype": "text/x-python",
   "name": "python",
   "nbconvert_exporter": "python",
   "pygments_lexer": "ipython3",
   "version": "3.8.2"
  },
  "toc": {
   "base_numbering": 1,
   "nav_menu": {},
   "number_sections": true,
   "sideBar": true,
   "skip_h1_title": false,
   "title_cell": "Table of Contents",
   "title_sidebar": "Contents",
   "toc_cell": false,
   "toc_position": {},
   "toc_section_display": true,
   "toc_window_display": false
  },
  "varInspector": {
   "cols": {
    "lenName": 16,
    "lenType": 16,
    "lenVar": 40
   },
   "kernels_config": {
    "python": {
     "delete_cmd_postfix": "",
     "delete_cmd_prefix": "del ",
     "library": "var_list.py",
     "varRefreshCmd": "print(var_dic_list())"
    },
    "r": {
     "delete_cmd_postfix": ") ",
     "delete_cmd_prefix": "rm(",
     "library": "var_list.r",
     "varRefreshCmd": "cat(var_dic_list()) "
    }
   },
   "types_to_exclude": [
    "module",
    "function",
    "builtin_function_or_method",
    "instance",
    "_Feature"
   ],
   "window_display": false
  }
 },
 "nbformat": 4,
 "nbformat_minor": 2
}

{
 "cells": [
  {
   "cell_type": "markdown",
   "metadata": {},
   "source": [
    "### Scraping NLB to know the books that I borrowed"
   ]
  },
  {
   "cell_type": "code",
   "execution_count": 1,
   "metadata": {},
   "outputs": [],
   "source": [
    "%load_ext autoreload\n",
    "%autoreload 2"
   ]
  },
  {
   "cell_type": "code",
   "execution_count": 2,
   "metadata": {},
   "outputs": [],
   "source": [
    "import re\n",
    "import os\n",
    "import time\n",
    "\n",
    "import warnings\n",
    "import pygsheets\n",
    "import numpy as np\n",
    "import pandas as pd\n",
    "from selenium import webdriver\n",
    "from bs4 import BeautifulSoup as bs\n",
    "\n",
    "# Some notebook configs\n",
    "warnings.filterwarnings('ignore')\n",
    "pd.set_option('display.max_colwidth', 1000)"
   ]
  },
  {
   "cell_type": "markdown",
   "metadata": {},
   "source": [
    "#### Load in self created functions "
   ]
  },
  {
   "cell_type": "code",
   "execution_count": 3,
   "metadata": {},
   "outputs": [],
   "source": [
    "from nlb_fun import *"
   ]
  },
  {
   "cell_type": "code",
   "execution_count": 12,
   "metadata": {},
   "outputs": [
    {
     "name": "stderr",
     "output_type": "stream",
     "text": [
      "\n",
      "\n",
      "====== WebDriver manager ======\n",
      "Current google-chrome version is 94.0.4606\n",
      "Get LATEST driver version for 94.0.4606\n",
      "Driver [/Users/cliff/.wdm/drivers/chromedriver/mac64/94.0.4606.61/chromedriver] found in cache\n"
     ]
    }
   ],
   "source": [
    "browser = activate_chrome_selenium_latest(is_headless=False)"
   ]
  },
  {
   "cell_type": "markdown",
   "metadata": {},
   "source": [
    "### Log in first! "
   ]
  },
  {
   "cell_type": "code",
   "execution_count": 13,
   "metadata": {},
   "outputs": [],
   "source": [
    "auth_csv_file: str = os.environ['nlb_login']\n",
    "\n",
    "info = pd.read_csv(auth_csv_file)\n",
    "account_name: str = info['values'][0]\n",
    "password: str = info['values'][1]\n",
    "\n",
    "browser = log_in_nlb(browser, account_name, password)"
   ]
  },
  {
   "cell_type": "markdown",
   "metadata": {},
   "source": [
    "### Loop through the pages! "
   ]
  },
  {
   "cell_type": "code",
   "execution_count": 14,
   "metadata": {},
   "outputs": [],
   "source": [
    "loans_link = \"https://www.nlb.gov.sg/mylibrary/Loans\"\n",
    "browser.get(loans_link)\n",
    "\n",
    "time.sleep(5)\n",
    "\n",
    "soup = bs(browser.page_source, \"html5lib\")"
   ]
  },
  {
   "cell_type": "code",
   "execution_count": 15,
   "metadata": {},
   "outputs": [],
   "source": [
    "table_col = []\n",
    "table_cells = []\n",
    "\n",
    "for table in soup.find_all(\"table\", class_=\"table table-bordered table-striped table-list bg-white\"):\n",
    "    for row in table.find_all('th'):\n",
    "        table_col.append(row.text)\n",
    "    \n",
    "    for row in table.find_all('td'):\n",
    "        table_cells.append(row.text)\n",
    "\n",
    "table_col = table_col[:5]"
   ]
  },
  {
   "cell_type": "code",
   "execution_count": 8,
   "metadata": {},
   "outputs": [],
   "source": [
    "browser.close()"
   ]
  },
  {
   "cell_type": "markdown",
   "metadata": {},
   "source": [
    "### Preparing raw data to push into G Drive"
   ]
  },
  {
   "cell_type": "code",
   "execution_count": 9,
   "metadata": {},
   "outputs": [],
   "source": [
    "books = pd.DataFrame(np.array(table_cells).reshape(int(len(table_cells)/5), 5))\n",
    "\n",
    "books.columns = ['no', 'title', 'code', 'due', 'renewed']\n",
    "books = books[['title', 'code', 'due']]\n",
    "\n",
    "for i in ['title', 'code', 'due']:\n",
    "    books[i] = [re.sub(' +', ' ', i.replace(\"\\n\", \"\")).strip() for i in books[i]]\n",
    "\n",
    "books['title'] = [i.replace(\"Title: \", \"\").strip() for i in books['title']]\n",
    "books['code'] = [i.replace(\"Barcode: \", \"\").strip() for i in books['code']]\n",
    "books['due'] = [i.replace(\"Due on \", \"\") .strip() for i in books['due']]"
   ]
  },
  {
   "cell_type": "code",
   "execution_count": 10,
   "metadata": {},
   "outputs": [
    {
     "data": {
      "text/html": [
       "<div>\n",
       "<style scoped>\n",
       "    .dataframe tbody tr th:only-of-type {\n",
       "        vertical-align: middle;\n",
       "    }\n",
       "\n",
       "    .dataframe tbody tr th {\n",
       "        vertical-align: top;\n",
       "    }\n",
       "\n",
       "    .dataframe thead th {\n",
       "        text-align: right;\n",
       "    }\n",
       "</style>\n",
       "<table border=\"1\" class=\"dataframe\">\n",
       "  <thead>\n",
       "    <tr style=\"text-align: right;\">\n",
       "      <th></th>\n",
       "      <th>title</th>\n",
       "      <th>code</th>\n",
       "      <th>due</th>\n",
       "    </tr>\n",
       "  </thead>\n",
       "  <tbody>\n",
       "    <tr>\n",
       "      <th>0</th>\n",
       "      <td>Robust Python : write clean and maintainable code</td>\n",
       "      <td>B36770177E</td>\n",
       "      <td>13 Oct 2021</td>\n",
       "    </tr>\n",
       "    <tr>\n",
       "      <th>1</th>\n",
       "      <td>Advanced JavaScript : speed up web development with the powerful features and benefits of JavaScript</td>\n",
       "      <td>B34665519F</td>\n",
       "      <td>17 Oct 2021</td>\n",
       "    </tr>\n",
       "    <tr>\n",
       "      <th>2</th>\n",
       "      <td>Metrics : how to improve key business results</td>\n",
       "      <td>B26804448C</td>\n",
       "      <td>26 Oct 2021</td>\n",
       "    </tr>\n",
       "    <tr>\n",
       "      <th>3</th>\n",
       "      <td>Crawl, walk, run : advancing analytics maturity with Google marketing platform</td>\n",
       "      <td>B36437870E</td>\n",
       "      <td>01 Nov 2021</td>\n",
       "    </tr>\n",
       "    <tr>\n",
       "      <th>4</th>\n",
       "      <td>Small giants : companies that choose to be great instead of big</td>\n",
       "      <td>B17709051H</td>\n",
       "      <td>05 Nov 2021</td>\n",
       "    </tr>\n",
       "    <tr>\n",
       "      <th>5</th>\n",
       "      <td>Tap : unlocking the mobile economy</td>\n",
       "      <td>B33376880E</td>\n",
       "      <td>05 Nov 2021</td>\n",
       "    </tr>\n",
       "    <tr>\n",
       "      <th>6</th>\n",
       "      <td>HBR's 10 must reads on business model innovation</td>\n",
       "      <td>B34955918K</td>\n",
       "      <td>05 Nov 2021</td>\n",
       "    </tr>\n",
       "    <tr>\n",
       "      <th>7</th>\n",
       "      <td>HBR's 10 must reads on strategy. Vol. 2</td>\n",
       "      <td>B35538147C</td>\n",
       "      <td>05 Nov 2021</td>\n",
       "    </tr>\n",
       "    <tr>\n",
       "      <th>8</th>\n",
       "      <td>Practical enterprise Ract : become an effective react developer in your team</td>\n",
       "      <td>B36834308B</td>\n",
       "      <td>08 Nov 2021</td>\n",
       "    </tr>\n",
       "  </tbody>\n",
       "</table>\n",
       "</div>"
      ],
      "text/plain": [
       "                                                                                                  title  \\\n",
       "0                                                     Robust Python : write clean and maintainable code   \n",
       "1  Advanced JavaScript : speed up web development with the powerful features and benefits of JavaScript   \n",
       "2                                                         Metrics : how to improve key business results   \n",
       "3                        Crawl, walk, run : advancing analytics maturity with Google marketing platform   \n",
       "4                                       Small giants : companies that choose to be great instead of big   \n",
       "5                                                                    Tap : unlocking the mobile economy   \n",
       "6                                                      HBR's 10 must reads on business model innovation   \n",
       "7                                                               HBR's 10 must reads on strategy. Vol. 2   \n",
       "8                          Practical enterprise Ract : become an effective react developer in your team   \n",
       "\n",
       "         code          due  \n",
       "0  B36770177E  13 Oct 2021  \n",
       "1  B34665519F  17 Oct 2021  \n",
       "2  B26804448C  26 Oct 2021  \n",
       "3  B36437870E  01 Nov 2021  \n",
       "4  B17709051H  05 Nov 2021  \n",
       "5  B33376880E  05 Nov 2021  \n",
       "6  B34955918K  05 Nov 2021  \n",
       "7  B35538147C  05 Nov 2021  \n",
       "8  B36834308B  08 Nov 2021  "
      ]
     },
     "execution_count": 10,
     "metadata": {},
     "output_type": "execute_result"
    }
   ],
   "source": [
    "books"
   ]
  },
  {
   "cell_type": "markdown",
   "metadata": {},
   "source": [
    "### Authenticate into G Drive and push data into G Drive"
   ]
  },
  {
   "cell_type": "code",
   "execution_count": 11,
   "metadata": {},
   "outputs": [],
   "source": [
    "google_auth = os.environ['gsheet_cred']\n",
    "gc = pygsheets.authorize(service_file=google_auth)\n",
    "\n",
    "sh = gc.open('NLB Project')\n",
    "wks = sh.worksheet_by_title(\"Current_borrowed\")\n",
    "wks.clear('A2:D17')\n",
    "\n",
    "wks.update_value('D2', \"=ARRAYFORMULA(C2:C{}-E1)\".format(books.shape[0] + 1))\n",
    "wks.update_value('C19', \"Average:\")\n",
    "wks.update_value('D19', \"=AVERAGE(D2:17)\")\n",
    "\n",
    "wks.set_dataframe(books,(1,1))"
   ]
  },
  {
   "cell_type": "markdown",
   "metadata": {},
   "source": [
    "### [Link](https://docs.google.com/spreadsheets/d/1s5oYU59jyU_QO3IIhCClyWGoC_MpW9L_h4l4djDUKO0/edit#gid=1021888748) to my Google Sheet"
   ]
  }
 ],
 "metadata": {
  "hide_input": false,
  "kernelspec": {
   "display_name": "Python 3",
   "language": "python",
   "name": "python3"
  },
  "language_info": {
   "codemirror_mode": {
    "name": "ipython",
    "version": 3
   },
   "file_extension": ".py",
   "mimetype": "text/x-python",
   "name": "python",
   "nbconvert_exporter": "python",
   "pygments_lexer": "ipython3",
   "version": "3.8.5"
  },
  "toc": {
   "base_numbering": 1,
   "nav_menu": {},
   "number_sections": true,
   "sideBar": true,
   "skip_h1_title": false,
   "title_cell": "Table of Contents",
   "title_sidebar": "Contents",
   "toc_cell": false,
   "toc_position": {},
   "toc_section_display": true,
   "toc_window_display": false
  },
  "varInspector": {
   "cols": {
    "lenName": 16,
    "lenType": 16,
    "lenVar": 40
   },
   "kernels_config": {
    "python": {
     "delete_cmd_postfix": "",
     "delete_cmd_prefix": "del ",
     "library": "var_list.py",
     "varRefreshCmd": "print(var_dic_list())"
    },
    "r": {
     "delete_cmd_postfix": ") ",
     "delete_cmd_prefix": "rm(",
     "library": "var_list.r",
     "varRefreshCmd": "cat(var_dic_list()) "
    }
   },
   "types_to_exclude": [
    "module",
    "function",
    "builtin_function_or_method",
    "instance",
    "_Feature"
   ],
   "window_display": false
  }
 },
 "nbformat": 4,
 "nbformat_minor": 2
}

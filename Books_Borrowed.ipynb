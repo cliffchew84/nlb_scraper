{
 "cells": [
  {
   "cell_type": "markdown",
   "metadata": {},
   "source": [
    "### Scraping NLB to know the books that I borrowed"
   ]
  },
  {
   "cell_type": "code",
   "execution_count": 1,
   "metadata": {},
   "outputs": [],
   "source": [
    "import re\n",
    "import os\n",
    "import time\n",
    "\n",
    "import warnings\n",
    "import pygsheets\n",
    "import numpy as np\n",
    "import pandas as pd\n",
    "from selenium import webdriver\n",
    "from bs4 import BeautifulSoup as bs\n",
    "\n",
    "# Some notebook configs\n",
    "warnings.filterwarnings('ignore')\n",
    "pd.set_option('display.max_colwidth', 1000)"
   ]
  },
  {
   "cell_type": "markdown",
   "metadata": {},
   "source": [
    "#### Load in self created functions "
   ]
  },
  {
   "cell_type": "code",
   "execution_count": 2,
   "metadata": {},
   "outputs": [],
   "source": [
    "from nlb_functions import *"
   ]
  },
  {
   "cell_type": "code",
   "execution_count": 3,
   "metadata": {},
   "outputs": [
    {
     "name": "stderr",
     "output_type": "stream",
     "text": [
      "\n",
      "\n",
      "====== WebDriver manager ======\n",
      "Current google-chrome version is 92.0.4515\n",
      "Get LATEST driver version for 92.0.4515\n",
      "Get LATEST driver version for 92.0.4515\n",
      "Trying to download new driver from https://chromedriver.storage.googleapis.com/92.0.4515.107/chromedriver_mac64.zip\n",
      "Driver has been saved in cache [/Users/cliff/.wdm/drivers/chromedriver/mac64/92.0.4515.107]\n"
     ]
    }
   ],
   "source": [
    "browser = activate_chrome_selenium_latest(is_headless=False)"
   ]
  },
  {
   "cell_type": "markdown",
   "metadata": {},
   "source": [
    "### Log in first! "
   ]
  },
  {
   "cell_type": "code",
   "execution_count": 4,
   "metadata": {},
   "outputs": [],
   "source": [
    "auth_csv_file = os.environ['nlb_login']\n",
    "\n",
    "info = pd.read_csv(auth_csv_file)\n",
    "account_name = info['values'][0]\n",
    "password = info['values'][1]\n",
    "\n",
    "browser = log_in_nlb(browser, account_name, password)"
   ]
  },
  {
   "cell_type": "markdown",
   "metadata": {},
   "source": [
    "### Loop through the pages! "
   ]
  },
  {
   "cell_type": "code",
   "execution_count": 5,
   "metadata": {},
   "outputs": [],
   "source": [
    "loans_link = \"https://www.nlb.gov.sg/mylibrary/Loans\"\n",
    "browser.get(loans_link)\n",
    "\n",
    "time.sleep(5)\n",
    "\n",
    "soup = bs(browser.page_source, \"html5lib\")"
   ]
  },
  {
   "cell_type": "code",
   "execution_count": 6,
   "metadata": {
    "scrolled": false
   },
   "outputs": [],
   "source": [
    "table_col = list()\n",
    "table_cells = list()\n",
    "\n",
    "for table in soup.find_all(\"table\", class_=\"table table-bordered table-striped table-list bg-white\"):\n",
    "    for row in table.find_all('th'):\n",
    "        table_col.append(row.text)\n",
    "    \n",
    "    for row in table.find_all('td'):\n",
    "        table_cells.append(row.text)\n",
    "\n",
    "table_col = table_col[:5]"
   ]
  },
  {
   "cell_type": "code",
   "execution_count": 7,
   "metadata": {},
   "outputs": [],
   "source": [
    "browser.close()"
   ]
  },
  {
   "cell_type": "markdown",
   "metadata": {},
   "source": [
    "### Preparing raw data to push into G Drive"
   ]
  },
  {
   "cell_type": "code",
   "execution_count": 8,
   "metadata": {},
   "outputs": [],
   "source": [
    "books = pd.DataFrame(np.array(table_cells).reshape(int(len(table_cells)/5), 5))\n",
    "\n",
    "books.columns = ['no', 'title', 'code', 'due', 'renewed']\n",
    "books = books[['title', 'code', 'due']]\n",
    "\n",
    "for i in ['title', 'code', 'due']:\n",
    "    books[i] = [re.sub(' +', ' ', i.replace(\"\\n\", \"\")).strip() for i in books[i]]\n",
    "\n",
    "books['title'] = [i.replace(\"Title: \", \"\").strip() for i in books['title']]\n",
    "books['code'] = [i.replace(\"Barcode: \", \"\").strip() for i in books['code']]\n",
    "books['due'] = [i.replace(\"Due on \", \"\") .strip() for i in books['due']]"
   ]
  },
  {
   "cell_type": "code",
   "execution_count": 9,
   "metadata": {},
   "outputs": [
    {
     "data": {
      "text/html": [
       "<div>\n",
       "<style scoped>\n",
       "    .dataframe tbody tr th:only-of-type {\n",
       "        vertical-align: middle;\n",
       "    }\n",
       "\n",
       "    .dataframe tbody tr th {\n",
       "        vertical-align: top;\n",
       "    }\n",
       "\n",
       "    .dataframe thead th {\n",
       "        text-align: right;\n",
       "    }\n",
       "</style>\n",
       "<table border=\"1\" class=\"dataframe\">\n",
       "  <thead>\n",
       "    <tr style=\"text-align: right;\">\n",
       "      <th></th>\n",
       "      <th>title</th>\n",
       "      <th>code</th>\n",
       "      <th>due</th>\n",
       "    </tr>\n",
       "  </thead>\n",
       "  <tbody>\n",
       "    <tr>\n",
       "      <th>0</th>\n",
       "      <td>Communicate better with everyone</td>\n",
       "      <td>B36619841E</td>\n",
       "      <td>19 Sep 2021</td>\n",
       "    </tr>\n",
       "    <tr>\n",
       "      <th>1</th>\n",
       "      <td>Modern front-end architecture : optimize your front-end development with components, storybook, and mise en place philosophy</td>\n",
       "      <td>B36721524H</td>\n",
       "      <td>19 Sep 2021</td>\n",
       "    </tr>\n",
       "    <tr>\n",
       "      <th>2</th>\n",
       "      <td>Be data literate : the data literacy skills everyone needs to succeed</td>\n",
       "      <td>B36392991I</td>\n",
       "      <td>19 Sep 2021</td>\n",
       "    </tr>\n",
       "    <tr>\n",
       "      <th>3</th>\n",
       "      <td>Solo : how to work alone (and not lose your mind)</td>\n",
       "      <td>B36062320K</td>\n",
       "      <td>22 Sep 2021</td>\n",
       "    </tr>\n",
       "    <tr>\n",
       "      <th>4</th>\n",
       "      <td>Getting started with D3</td>\n",
       "      <td>B26250761G</td>\n",
       "      <td>23 Sep 2021</td>\n",
       "    </tr>\n",
       "    <tr>\n",
       "      <th>5</th>\n",
       "      <td>Learn D3.js : create interactive data-driven visualizations for the web with the D3.js library</td>\n",
       "      <td>B35075634K</td>\n",
       "      <td>23 Sep 2021</td>\n",
       "    </tr>\n",
       "    <tr>\n",
       "      <th>6</th>\n",
       "      <td>Narrative economics : how stories go viral &amp; drive major economic events, with a new preface by the author</td>\n",
       "      <td>B36123814F</td>\n",
       "      <td>25 Sep 2021</td>\n",
       "    </tr>\n",
       "    <tr>\n",
       "      <th>7</th>\n",
       "      <td>Japanese for busy people. II</td>\n",
       "      <td>B22538061E</td>\n",
       "      <td>25 Sep 2021</td>\n",
       "    </tr>\n",
       "    <tr>\n",
       "      <th>8</th>\n",
       "      <td>Japanese for busy people. I, Kana version</td>\n",
       "      <td>B22565636B</td>\n",
       "      <td>07 Oct 2021</td>\n",
       "    </tr>\n",
       "    <tr>\n",
       "      <th>9</th>\n",
       "      <td>Hands on with Google Data Studio : a data citizen's survival guide</td>\n",
       "      <td>B36577286K</td>\n",
       "      <td>16 Oct 2021</td>\n",
       "    </tr>\n",
       "    <tr>\n",
       "      <th>10</th>\n",
       "      <td>Conversational Japanese : the right word at the right time</td>\n",
       "      <td>B34335799J</td>\n",
       "      <td>23 Oct 2021</td>\n",
       "    </tr>\n",
       "    <tr>\n",
       "      <th>11</th>\n",
       "      <td>Capitalism, alone : the future of the system that rules the world</td>\n",
       "      <td>B35239580B</td>\n",
       "      <td>23 Oct 2021</td>\n",
       "    </tr>\n",
       "    <tr>\n",
       "      <th>12</th>\n",
       "      <td>SQL antipatterns : avoiding the pitfalls of database programming</td>\n",
       "      <td>B23171067E</td>\n",
       "      <td>23 Oct 2021</td>\n",
       "    </tr>\n",
       "  </tbody>\n",
       "</table>\n",
       "</div>"
      ],
      "text/plain": [
       "                                                                                                                           title  \\\n",
       "0                                                                                               Communicate better with everyone   \n",
       "1   Modern front-end architecture : optimize your front-end development with components, storybook, and mise en place philosophy   \n",
       "2                                                          Be data literate : the data literacy skills everyone needs to succeed   \n",
       "3                                                                              Solo : how to work alone (and not lose your mind)   \n",
       "4                                                                                                        Getting started with D3   \n",
       "5                                 Learn D3.js : create interactive data-driven visualizations for the web with the D3.js library   \n",
       "6                     Narrative economics : how stories go viral & drive major economic events, with a new preface by the author   \n",
       "7                                                                                                   Japanese for busy people. II   \n",
       "8                                                                                      Japanese for busy people. I, Kana version   \n",
       "9                                                             Hands on with Google Data Studio : a data citizen's survival guide   \n",
       "10                                                                    Conversational Japanese : the right word at the right time   \n",
       "11                                                             Capitalism, alone : the future of the system that rules the world   \n",
       "12                                                              SQL antipatterns : avoiding the pitfalls of database programming   \n",
       "\n",
       "          code          due  \n",
       "0   B36619841E  19 Sep 2021  \n",
       "1   B36721524H  19 Sep 2021  \n",
       "2   B36392991I  19 Sep 2021  \n",
       "3   B36062320K  22 Sep 2021  \n",
       "4   B26250761G  23 Sep 2021  \n",
       "5   B35075634K  23 Sep 2021  \n",
       "6   B36123814F  25 Sep 2021  \n",
       "7   B22538061E  25 Sep 2021  \n",
       "8   B22565636B  07 Oct 2021  \n",
       "9   B36577286K  16 Oct 2021  \n",
       "10  B34335799J  23 Oct 2021  \n",
       "11  B35239580B  23 Oct 2021  \n",
       "12  B23171067E  23 Oct 2021  "
      ]
     },
     "execution_count": 9,
     "metadata": {},
     "output_type": "execute_result"
    }
   ],
   "source": [
    "books"
   ]
  },
  {
   "cell_type": "markdown",
   "metadata": {},
   "source": [
    "### Authenticate into G Drive and push data into G Drive"
   ]
  },
  {
   "cell_type": "code",
   "execution_count": 10,
   "metadata": {},
   "outputs": [],
   "source": [
    "google_auth = os.environ['gsheet_cred']\n",
    "gc = pygsheets.authorize(service_file=google_auth)\n",
    "\n",
    "sh = gc.open('NLB Project')\n",
    "wks = sh.worksheet_by_title(\"Current_borrowed\")\n",
    "wks.clear('A2:D17')\n",
    "\n",
    "wks.update_value('D2', \"=ARRAYFORMULA(C2:C{}-E1)\".format(books.shape[0] + 1))\n",
    "wks.update_value('C19', \"Average:\")\n",
    "wks.update_value('D19', \"=AVERAGE(D2:17)\")\n",
    "\n",
    "wks.set_dataframe(books,(1,1))"
   ]
  },
  {
   "cell_type": "markdown",
   "metadata": {},
   "source": [
    "### [Link](https://docs.google.com/spreadsheets/d/1s5oYU59jyU_QO3IIhCClyWGoC_MpW9L_h4l4djDUKO0/edit#gid=1021888748) to my Google Sheet"
   ]
  }
 ],
 "metadata": {
  "hide_input": false,
  "kernelspec": {
   "display_name": "Python 3",
   "language": "python",
   "name": "python3"
  },
  "language_info": {
   "codemirror_mode": {
    "name": "ipython",
    "version": 3
   },
   "file_extension": ".py",
   "mimetype": "text/x-python",
   "name": "python",
   "nbconvert_exporter": "python",
   "pygments_lexer": "ipython3",
   "version": "3.8.5"
  },
  "toc": {
   "base_numbering": 1,
   "nav_menu": {},
   "number_sections": true,
   "sideBar": true,
   "skip_h1_title": false,
   "title_cell": "Table of Contents",
   "title_sidebar": "Contents",
   "toc_cell": false,
   "toc_position": {},
   "toc_section_display": true,
   "toc_window_display": false
  },
  "varInspector": {
   "cols": {
    "lenName": 16,
    "lenType": 16,
    "lenVar": 40
   },
   "kernels_config": {
    "python": {
     "delete_cmd_postfix": "",
     "delete_cmd_prefix": "del ",
     "library": "var_list.py",
     "varRefreshCmd": "print(var_dic_list())"
    },
    "r": {
     "delete_cmd_postfix": ") ",
     "delete_cmd_prefix": "rm(",
     "library": "var_list.r",
     "varRefreshCmd": "cat(var_dic_list()) "
    }
   },
   "types_to_exclude": [
    "module",
    "function",
    "builtin_function_or_method",
    "instance",
    "_Feature"
   ],
   "window_display": false
  }
 },
 "nbformat": 4,
 "nbformat_minor": 2
}
